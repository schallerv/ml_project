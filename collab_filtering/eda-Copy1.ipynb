{
 "cells": [
  {
   "cell_type": "code",
   "execution_count": 1,
   "id": "30b5d3d8-58c6-44d3-b991-efee010e3296",
   "metadata": {},
   "outputs": [
    {
     "name": "stdout",
     "output_type": "stream",
     "text": [
      "Categories:\n",
      "1. Abstract\n",
      "2. CGS\n",
      "3. Childrens\n",
      "4. Family\n",
      "5. Party\n",
      "6. Strategy\n",
      "7. Thematic\n",
      "8. War\n"
     ]
    },
    {
     "name": "stdin",
     "output_type": "stream",
     "text": [
      "Select categories of interest by entering the corresponding number(s):  5\n"
     ]
    },
    {
     "name": "stdout",
     "output_type": "stream",
     "text": [
      "You selected\n",
      "Party\n"
     ]
    },
    {
     "name": "stdin",
     "output_type": "stream",
     "text": [
      "Would you like to select a subcategory? (Y/N)  y\n"
     ]
    },
    {
     "name": "stdout",
     "output_type": "stream",
     "text": [
      "Sub-Categories:\n",
      "1. Card Game\n",
      "2. Collectible Components\n",
      "3. Educational\n",
      "4. Electronic\n",
      "5. Exploration\n",
      "6. Print & Play\n",
      "7. Puzzle\n",
      "8. Word Game\n"
     ]
    },
    {
     "name": "stdin",
     "output_type": "stream",
     "text": [
      "Select categories of interest by entering the corresponding number(s):  7\n"
     ]
    },
    {
     "name": "stdout",
     "output_type": "stream",
     "text": [
      "You selected\n",
      "Puzzle\n",
      "Game Choices:\n",
      "1. Cranium\n",
      "2. Cluzzle\n",
      "3. Haggle\n",
      "4. Pictureka!\n",
      "5. Loco Motive\n",
      "6. Panic Lab\n",
      "7. Pick-a-Dog\n",
      "8. Pick-a-Polar Bear\n",
      "9. Imagine\n",
      "10. Braintopia\n",
      "11. Rail Pass\n",
      "12. Deckscape: Test Time\n"
     ]
    },
    {
     "name": "stdin",
     "output_type": "stream",
     "text": [
      "Enter the Game Numbers of your favorite Games separated by spaces:  1 9\n"
     ]
    },
    {
     "name": "stdout",
     "output_type": "stream",
     "text": [
      "\n",
      "Your Favorite Game(s):\n",
      "Cranium\n",
      "Imagine\n"
     ]
    },
    {
     "name": "stdin",
     "output_type": "stream",
     "text": [
      "Enter the Game Numbers of your least favorite Games separated by spaces:  \n"
     ]
    },
    {
     "name": "stdout",
     "output_type": "stream",
     "text": [
      "\n",
      "Your Least Favorite Game(s):\n"
     ]
    },
    {
     "name": "stdin",
     "output_type": "stream",
     "text": [
      "Would you like recommendations for only the categories you have chosen? (Y/N)  y\n"
     ]
    }
   ],
   "source": [
    "# imports\n",
    "import pandas as pd\n",
    "subcategories = pd.read_csv(\"C:/Users/toris/Downloads/Spring 25/DS4420/Final Project/game_data/subcategories.csv\")\n",
    "games = pd.read_csv(\"C:/Users/toris/Downloads/Spring 25/DS4420/Final Project/game_data/games.csv\") \n",
    "ratings = pd.read_csv(\"C:/Users/toris/Downloads/Spring 25/DS4420/Final Project/game_data/user_ratings.csv\") \n",
    "\n",
    "# initialize list\n",
    "cats = [\"All\", \"Thematic\", \"Strategy\", \"War\", \"Family\", \"CGS\", \"Abstract\", \"Party\", \"Childrens\"]\n",
    "sub_cats = [\"All\", \"Exploration\", \"Miniatures\", \"Territory Building\", \"Card Game\", \"Educational\", \"Puzzle\", \"Collectible Components\", \"Word Game\", \"Print & Play\", \"Electronic\"]\n",
    "\n",
    "# rename columns\n",
    "games.columns = [col.replace(\"Cat:\", \"\").strip() if 40 <= i <= 48 else col for i, col in enumerate(games.columns)]\n",
    "\n",
    "# filter cols\n",
    "games = games.iloc[:, [0, 1] + list(range(40, 48))]\n",
    "\n",
    "# create full data \n",
    "full_games = pd.merge(games, subcategories, on=\"BGGId\", how=\"inner\") \n",
    "\n",
    "# generate categories list and number of categories per game\n",
    "full_games[\"Categories\"] = full_games.iloc[:, 2:10].apply(lambda row: ', '.join(full_games.columns[2:10][row == 1]), axis=1)\n",
    "full_games[\"Num_Categories\"] = full_games.iloc[:, 2:10].sum(axis=1)\n",
    "\n",
    "# generate sub categories list and number of categories per game\n",
    "full_games[\"Sub Categories\"] = full_games.iloc[:, 10:20].apply(lambda row: ', '.join(full_games.columns[10:20][row == 1]), axis=1)\n",
    "full_games[\"Num_Sub_Categories\"] = full_games.iloc[:, 10:20].sum(axis=1)\n",
    "\n",
    "# Filter out rows where Num_Categories is 0\n",
    "full_games = full_games[full_games[\"Num_Categories\"] > 0]\n",
    "\n",
    "#category input\n",
    "# NEW CAT CODE\n",
    "unique_categories = set(full_games[\"Categories\"].str.split(\", \").explode().dropna().replace(\"\", float(\"nan\")).dropna())\n",
    "categories_list = sorted(unique_categories)\n",
    "\n",
    "print(\"Categories:\")\n",
    "for i, category in enumerate(categories_list, 1):  \n",
    "    print(f\"{i}. {category}\")\n",
    "\n",
    "while True:\n",
    "    try:\n",
    "        categories = list(map(int, input(\"Select categories of interest by entering the corresponding number(s): \").split()))\n",
    "\n",
    "        # Validate input\n",
    "        if len(categories) >= 1 and all(1 <= choice <= len(categories_list) for choice in categories):\n",
    "            break  \n",
    "        else:\n",
    "            print(\"\\nInvalid selection. Please enter a valid number from the list.\")\n",
    "    except ValueError:\n",
    "        print(\"\\nInvalid input. Please enter numbers only.\")\n",
    "\n",
    "# Display selected games\n",
    "category_names = []\n",
    "\n",
    "print(\"You selected\")\n",
    "for i in categories:\n",
    "    selected_category = categories_list[i - 1]\n",
    "    category_names.append(selected_category)\n",
    "    print(selected_category)\n",
    "\n",
    "filtered_games = full_games[full_games[category_names].any(axis=1)]\n",
    "\n",
    "# sub category input\n",
    "# NEW SUB CAT CODE\n",
    "y_n = input(\"Would you like to select a subcategory? (Y/N) \")\n",
    "\n",
    "if y_n.lower()== \"y\":\n",
    "    unique_sub_categories = set(filtered_games[\"Sub Categories\"].str.split(\", \").explode().dropna().replace(\"\", float(\"nan\")).dropna())\n",
    "    sub_categories_list = sorted(unique_sub_categories)\n",
    "\n",
    "    print(\"Sub-Categories:\")\n",
    "    for i, category in enumerate(sub_categories_list, 1):  \n",
    "        print(f\"{i}. {category}\")\n",
    "\n",
    "    while True:\n",
    "        try:\n",
    "            sub_categories = list(map(int, input(\"Select categories of interest by entering the corresponding number(s): \").split()))\n",
    "    \n",
    "            # Validate input\n",
    "            if len(sub_categories) >= 1 and all(1 <= choice <= len(sub_categories_list) for choice in sub_categories):\n",
    "                break  \n",
    "            else:\n",
    "                print(\"\\nInvalid selection. Please enter a valid number from the list.\")\n",
    "        except ValueError:\n",
    "            print(\"\\nInvalid input. Please enter numbers only.\")\n",
    "    \n",
    "    # Display selected games\n",
    "    sub_category_names = []\n",
    "    \n",
    "    print(\"You selected\")\n",
    "    for i in sub_categories:\n",
    "        selected_sub_category = sub_categories_list[i - 1]\n",
    "        sub_category_names.append(selected_sub_category)\n",
    "        print(selected_sub_category)\n",
    "    \n",
    "    filtered_games = filtered_games[filtered_games[sub_category_names].any(axis=1)]\n",
    "\n",
    "# reset index\n",
    "filtered_games.insert(0, \"Game Number\", range(1, len(filtered_games) + 1))\n",
    "\n",
    "# get favorite games from user\n",
    "print(\"Game Choices:\")\n",
    "for _, row in filtered_games.iterrows():\n",
    "    print(f\"{row['Game Number']}. {row['Name']}\")\n",
    "\n",
    "while True:\n",
    "    try:\n",
    "        fav_numbers = list(map(int, input(\"Enter the Game Numbers of your favorite Games separated by spaces: \").split()))\n",
    "\n",
    "        # Validate input\n",
    "        if len(fav_numbers) >= 1 and all(num in filtered_games[\"Game Number\"].values for num in fav_numbers):\n",
    "            break  \n",
    "        else:\n",
    "            print(\"\\nInvalid selection. Please enter a valid number from the list.\")\n",
    "    except ValueError:\n",
    "        print(\"\\nInvalid input. Please enter numbers only.\")\n",
    "\n",
    "# Display selected games\n",
    "print(\"\\nYour Favorite Game(s):\")\n",
    "for _, row in filtered_games[filtered_games[\"Game Number\"].isin(fav_numbers)].iterrows():\n",
    "    print(row['Name'])\n",
    "\n",
    "# get least fav games\n",
    "while True:\n",
    "    try:\n",
    "        least_fav_numbers = list(map(int, input(\"Enter the Game Numbers of your least favorite Games separated by spaces: \").split()))\n",
    "\n",
    "        # Validate input\n",
    "        if all(num in filtered_games[\"Game Number\"].values for num in least_fav_numbers):\n",
    "            break  \n",
    "        else:\n",
    "            print(\"\\nInvalid selection. Please enter exactly 3 valid numbers from the list.\")\n",
    "    except ValueError:\n",
    "        print(\"\\nInvalid input. Please enter numbers only.\")\n",
    "\n",
    "# Display selected games\n",
    "print(\"\\nYour Least Favorite Game(s):\")\n",
    "for _, row in filtered_games[filtered_games[\"Game Number\"].isin(least_fav_numbers)].iterrows():\n",
    "    print(row['Name'])\n",
    "\n",
    "# get id lists for filtering ratings\n",
    "favorite_game_id = filtered_games[filtered_games[\"Game Number\"].isin(fav_numbers)][\"BGGId\"].tolist()\n",
    "least_favorite_game_id = filtered_games[filtered_games[\"Game Number\"].isin(least_fav_numbers)][\"BGGId\"].tolist()\n",
    "filtered_game_ids = filtered_games[\"BGGId\"]\n",
    "\n",
    "new_ratings = pd.DataFrame({\n",
    "    \"BGGId\": favorite_game_id + least_favorite_game_id,\n",
    "    \"Rating\": [5] * len(favorite_game_id) + [1] * len(least_favorite_game_id),\n",
    "    \"Username\": [\"TestUser\"] * (len(favorite_game_id) + len(least_favorite_game_id))\n",
    "})\n",
    "\n",
    "# Append the new ratings to the existing DataFrame\n",
    "ratings = pd.concat([ratings, new_ratings], ignore_index=True)\n",
    "\n",
    "y_n = input(\"Would you like recommendations for only the categories you have chosen? (Y/N) \")\n",
    "\n",
    "if y_n.lower()== \"y\":\n",
    "    ratings = ratings[ratings[\"BGGId\"].isin(filtered_game_ids)]\n",
    "    \n",
    "rating_matrix = ratings.pivot_table(index=\"Username\", columns=\"BGGId\", values=\"Rating\", aggfunc=\"mean\")"
   ]
  }
 ],
 "metadata": {
  "kernelspec": {
   "display_name": "Python 3 (ipykernel)",
   "language": "python",
   "name": "python3"
  },
  "language_info": {
   "codemirror_mode": {
    "name": "ipython",
    "version": 3
   },
   "file_extension": ".py",
   "mimetype": "text/x-python",
   "name": "python",
   "nbconvert_exporter": "python",
   "pygments_lexer": "ipython3",
   "version": "3.9.18"
  }
 },
 "nbformat": 4,
 "nbformat_minor": 5
}
