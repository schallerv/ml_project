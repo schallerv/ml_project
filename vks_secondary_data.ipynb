{
 "cells": [
  {
   "cell_type": "markdown",
   "id": "852d063f-a494-465c-a088-8de9b63137c0",
   "metadata": {},
   "source": [
    "#### Notebook for Secondary Goodreads Data Creation\n",
    "##### Victoria Schaller - 3/18/2025"
   ]
  },
  {
   "cell_type": "code",
   "execution_count": 1,
   "id": "9698b139-4676-4b24-99ac-0bc0912d9093",
   "metadata": {},
   "outputs": [],
   "source": [
    "# imports\n",
    "import pandas as pd"
   ]
  },
  {
   "cell_type": "code",
   "execution_count": 2,
   "id": "a5eeaf27-0607-4c89-80d6-17b9be520abc",
   "metadata": {},
   "outputs": [],
   "source": [
    "books = pd.read_csv(\"book_data/books.csv\")\n",
    "ratings = pd.read_csv(\"book_data/ratings.csv\")"
   ]
  },
  {
   "cell_type": "markdown",
   "id": "eddc0fac-81a7-48ac-98a8-46b4106ade74",
   "metadata": {},
   "source": [
    "##### Create Full Master Data\n",
    "Save as csv"
   ]
  },
  {
   "cell_type": "code",
   "execution_count": 3,
   "id": "90621a87-2be5-4d44-918b-d3e362638743",
   "metadata": {},
   "outputs": [],
   "source": [
    "# create master full data\n",
    "full_ratings_w_books = books.merge(ratings, left_on='book_id', right_on='book_id', how='inner')"
   ]
  },
  {
   "cell_type": "code",
   "execution_count": 4,
   "id": "3e4a66b4-699f-4f64-819d-a92dc9e9cf1a",
   "metadata": {},
   "outputs": [
    {
     "data": {
      "text/html": [
       "<div>\n",
       "<style scoped>\n",
       "    .dataframe tbody tr th:only-of-type {\n",
       "        vertical-align: middle;\n",
       "    }\n",
       "\n",
       "    .dataframe tbody tr th {\n",
       "        vertical-align: top;\n",
       "    }\n",
       "\n",
       "    .dataframe thead th {\n",
       "        text-align: right;\n",
       "    }\n",
       "</style>\n",
       "<table border=\"1\" class=\"dataframe\">\n",
       "  <thead>\n",
       "    <tr style=\"text-align: right;\">\n",
       "      <th></th>\n",
       "      <th>book_id</th>\n",
       "      <th>goodreads_book_id</th>\n",
       "      <th>best_book_id</th>\n",
       "      <th>work_id</th>\n",
       "      <th>books_count</th>\n",
       "      <th>isbn</th>\n",
       "      <th>isbn13</th>\n",
       "      <th>authors</th>\n",
       "      <th>original_publication_year</th>\n",
       "      <th>original_title</th>\n",
       "      <th>...</th>\n",
       "      <th>work_text_reviews_count</th>\n",
       "      <th>ratings_1</th>\n",
       "      <th>ratings_2</th>\n",
       "      <th>ratings_3</th>\n",
       "      <th>ratings_4</th>\n",
       "      <th>ratings_5</th>\n",
       "      <th>image_url</th>\n",
       "      <th>small_image_url</th>\n",
       "      <th>user_id</th>\n",
       "      <th>rating</th>\n",
       "    </tr>\n",
       "  </thead>\n",
       "  <tbody>\n",
       "    <tr>\n",
       "      <th>0</th>\n",
       "      <td>1</td>\n",
       "      <td>2767052</td>\n",
       "      <td>2767052</td>\n",
       "      <td>2792775</td>\n",
       "      <td>272</td>\n",
       "      <td>439023483</td>\n",
       "      <td>9.780439e+12</td>\n",
       "      <td>Suzanne Collins</td>\n",
       "      <td>2008.0</td>\n",
       "      <td>The Hunger Games</td>\n",
       "      <td>...</td>\n",
       "      <td>155254</td>\n",
       "      <td>66715</td>\n",
       "      <td>127936</td>\n",
       "      <td>560092</td>\n",
       "      <td>1481305</td>\n",
       "      <td>2706317</td>\n",
       "      <td>https://images.gr-assets.com/books/1447303603m...</td>\n",
       "      <td>https://images.gr-assets.com/books/1447303603s...</td>\n",
       "      <td>2886</td>\n",
       "      <td>5</td>\n",
       "    </tr>\n",
       "    <tr>\n",
       "      <th>1</th>\n",
       "      <td>1</td>\n",
       "      <td>2767052</td>\n",
       "      <td>2767052</td>\n",
       "      <td>2792775</td>\n",
       "      <td>272</td>\n",
       "      <td>439023483</td>\n",
       "      <td>9.780439e+12</td>\n",
       "      <td>Suzanne Collins</td>\n",
       "      <td>2008.0</td>\n",
       "      <td>The Hunger Games</td>\n",
       "      <td>...</td>\n",
       "      <td>155254</td>\n",
       "      <td>66715</td>\n",
       "      <td>127936</td>\n",
       "      <td>560092</td>\n",
       "      <td>1481305</td>\n",
       "      <td>2706317</td>\n",
       "      <td>https://images.gr-assets.com/books/1447303603m...</td>\n",
       "      <td>https://images.gr-assets.com/books/1447303603s...</td>\n",
       "      <td>6158</td>\n",
       "      <td>5</td>\n",
       "    </tr>\n",
       "  </tbody>\n",
       "</table>\n",
       "<p>2 rows × 25 columns</p>\n",
       "</div>"
      ],
      "text/plain": [
       "   book_id  goodreads_book_id  best_book_id  work_id  books_count       isbn  \\\n",
       "0        1            2767052       2767052  2792775          272  439023483   \n",
       "1        1            2767052       2767052  2792775          272  439023483   \n",
       "\n",
       "         isbn13          authors  original_publication_year    original_title  \\\n",
       "0  9.780439e+12  Suzanne Collins                     2008.0  The Hunger Games   \n",
       "1  9.780439e+12  Suzanne Collins                     2008.0  The Hunger Games   \n",
       "\n",
       "   ... work_text_reviews_count ratings_1  ratings_2  ratings_3  ratings_4  \\\n",
       "0  ...                  155254     66715     127936     560092    1481305   \n",
       "1  ...                  155254     66715     127936     560092    1481305   \n",
       "\n",
       "   ratings_5                                          image_url  \\\n",
       "0    2706317  https://images.gr-assets.com/books/1447303603m...   \n",
       "1    2706317  https://images.gr-assets.com/books/1447303603m...   \n",
       "\n",
       "                                     small_image_url  user_id  rating  \n",
       "0  https://images.gr-assets.com/books/1447303603s...     2886       5  \n",
       "1  https://images.gr-assets.com/books/1447303603s...     6158       5  \n",
       "\n",
       "[2 rows x 25 columns]"
      ]
     },
     "execution_count": 4,
     "metadata": {},
     "output_type": "execute_result"
    }
   ],
   "source": [
    "full_ratings_w_books.head(2)"
   ]
  },
  {
   "cell_type": "code",
   "execution_count": 5,
   "id": "797f78a3-aec1-4fa6-8768-d0ef0abcfb55",
   "metadata": {},
   "outputs": [
    {
     "data": {
      "text/plain": [
       "(5976479, 25)"
      ]
     },
     "execution_count": 5,
     "metadata": {},
     "output_type": "execute_result"
    }
   ],
   "source": [
    "full_ratings_w_books.shape"
   ]
  },
  {
   "cell_type": "code",
   "execution_count": 6,
   "id": "312c9c0d-9e93-431c-aaec-5bd9321a7837",
   "metadata": {},
   "outputs": [],
   "source": [
    "full_ratings_w_books.to_csv('book_data/sec_full_detail_ratings.csv', index=False)"
   ]
  },
  {
   "cell_type": "markdown",
   "id": "9cb3f2b3-f6a5-4eed-b6d9-7459a299ef1f",
   "metadata": {},
   "source": [
    "##### Create Cleaned Master Data\n",
    "Save as csv"
   ]
  },
  {
   "cell_type": "code",
   "execution_count": 7,
   "id": "bfb1ffb8-8be7-4018-bc55-1b2d9a5981c2",
   "metadata": {},
   "outputs": [],
   "source": [
    "# create clean full data\n",
    "minimal_rating = full_ratings_w_books[['original_title', 'book_id', 'user_id', 'rating']]"
   ]
  },
  {
   "cell_type": "code",
   "execution_count": 8,
   "id": "f54c04b0-b550-4640-8468-395636138d3e",
   "metadata": {},
   "outputs": [
    {
     "data": {
      "text/html": [
       "<div>\n",
       "<style scoped>\n",
       "    .dataframe tbody tr th:only-of-type {\n",
       "        vertical-align: middle;\n",
       "    }\n",
       "\n",
       "    .dataframe tbody tr th {\n",
       "        vertical-align: top;\n",
       "    }\n",
       "\n",
       "    .dataframe thead th {\n",
       "        text-align: right;\n",
       "    }\n",
       "</style>\n",
       "<table border=\"1\" class=\"dataframe\">\n",
       "  <thead>\n",
       "    <tr style=\"text-align: right;\">\n",
       "      <th></th>\n",
       "      <th>original_title</th>\n",
       "      <th>book_id</th>\n",
       "      <th>user_id</th>\n",
       "      <th>rating</th>\n",
       "    </tr>\n",
       "  </thead>\n",
       "  <tbody>\n",
       "    <tr>\n",
       "      <th>0</th>\n",
       "      <td>The Hunger Games</td>\n",
       "      <td>1</td>\n",
       "      <td>2886</td>\n",
       "      <td>5</td>\n",
       "    </tr>\n",
       "    <tr>\n",
       "      <th>1</th>\n",
       "      <td>The Hunger Games</td>\n",
       "      <td>1</td>\n",
       "      <td>6158</td>\n",
       "      <td>5</td>\n",
       "    </tr>\n",
       "  </tbody>\n",
       "</table>\n",
       "</div>"
      ],
      "text/plain": [
       "     original_title  book_id  user_id  rating\n",
       "0  The Hunger Games        1     2886       5\n",
       "1  The Hunger Games        1     6158       5"
      ]
     },
     "execution_count": 8,
     "metadata": {},
     "output_type": "execute_result"
    }
   ],
   "source": [
    "minimal_rating.head(2)"
   ]
  },
  {
   "cell_type": "code",
   "execution_count": 9,
   "id": "aa60ca71-3ca6-4e14-bc27-6c8d24388f46",
   "metadata": {},
   "outputs": [
    {
     "data": {
      "text/plain": [
       "(5976479, 4)"
      ]
     },
     "execution_count": 9,
     "metadata": {},
     "output_type": "execute_result"
    }
   ],
   "source": [
    "minimal_rating.shape"
   ]
  },
  {
   "cell_type": "code",
   "execution_count": 10,
   "id": "2095c125-2d7d-4eba-a09a-5a22490ac623",
   "metadata": {},
   "outputs": [],
   "source": [
    "minimal_rating.to_csv('book_data/sec_ratings_w_name.csv', index=False)"
   ]
  },
  {
   "cell_type": "markdown",
   "id": "501d3ce8-be00-463f-bd32-3f6c592fed42",
   "metadata": {},
   "source": [
    "##### Create Rating Matrix\n",
    "Save as csv"
   ]
  },
  {
   "cell_type": "code",
   "execution_count": 11,
   "id": "385a19a3-a3e1-47eb-bc20-095c5c897607",
   "metadata": {},
   "outputs": [],
   "source": [
    "# Create the rating matrix with user_id as rows and book_id as columns\n",
    "rating_matrix = minimal_rating.pivot_table(index='book_id', columns='user_id', values='rating', aggfunc='first')"
   ]
  },
  {
   "cell_type": "code",
   "execution_count": 12,
   "id": "a7abeacd-648b-43b5-959d-04c63ec832a3",
   "metadata": {},
   "outputs": [],
   "source": [
    "# Reset index to bring book_id back as a column\n",
    "rating_matrix.reset_index(inplace=True)"
   ]
  },
  {
   "cell_type": "code",
   "execution_count": 13,
   "id": "85b3b30e-fe0d-4c7e-b18a-dc9d19164bf5",
   "metadata": {},
   "outputs": [],
   "source": [
    "# Merge with the book_name for each book_id\n",
    "book_names = minimal_rating[['book_id', 'original_title']].drop_duplicates()\n",
    "rating_matrix = pd.merge(book_names, rating_matrix, on='book_id', how='right')"
   ]
  },
  {
   "cell_type": "code",
   "execution_count": 14,
   "id": "377ab2b3-abd9-4481-b6b6-4ed6613629a1",
   "metadata": {},
   "outputs": [],
   "source": [
    "# Reorder columns so that book_name and book_id are the first two columns\n",
    "rating_matrix = rating_matrix[['original_title', 'book_id'] + [col for col in rating_matrix.columns if col not in ['original_title', 'book_id']]]"
   ]
  },
  {
   "cell_type": "code",
   "execution_count": 15,
   "id": "7da19739-d3c0-4953-ac2a-4b00a49397d1",
   "metadata": {},
   "outputs": [
    {
     "data": {
      "text/plain": [
       "(10000, 53426)"
      ]
     },
     "execution_count": 15,
     "metadata": {},
     "output_type": "execute_result"
    }
   ],
   "source": [
    "rating_matrix.shape"
   ]
  },
  {
   "cell_type": "code",
   "execution_count": 16,
   "id": "16962676-abec-4af8-bdbd-1cf689ea5e7a",
   "metadata": {},
   "outputs": [],
   "source": [
    "rating_matrix.to_csv('book_data/sec_rating_matrix.csv', index=False)"
   ]
  }
 ],
 "metadata": {
  "kernelspec": {
   "display_name": "Python 3 (ipykernel)",
   "language": "python",
   "name": "python3"
  },
  "language_info": {
   "codemirror_mode": {
    "name": "ipython",
    "version": 3
   },
   "file_extension": ".py",
   "mimetype": "text/x-python",
   "name": "python",
   "nbconvert_exporter": "python",
   "pygments_lexer": "ipython3",
   "version": "3.9.18"
  }
 },
 "nbformat": 4,
 "nbformat_minor": 5
}
