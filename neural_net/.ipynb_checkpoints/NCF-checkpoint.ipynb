{
 "cells": [
  {
   "cell_type": "markdown",
   "id": "59d78006",
   "metadata": {},
   "source": [
    "# Setup"
   ]
  },
  {
   "cell_type": "code",
   "execution_count": 1,
   "id": "ee52cecf",
   "metadata": {},
   "outputs": [],
   "source": [
    "import torch\n",
    "import torch.nn as nn\n",
    "import torch.optim as optim\n",
    "from torch.utils.data import Dataset, DataLoader\n",
    "import pandas as pd\n",
    "import numpy as np\n",
    "from sklearn.model_selection import train_test_split"
   ]
  },
  {
   "cell_type": "code",
   "execution_count": 15,
   "id": "240bae20",
   "metadata": {},
   "outputs": [],
   "source": [
    "# get and format game data\n",
    "games_df = pd.read_csv(\"../../bgg_data/overall_games.csv\")\n",
    "names = games_df[[\"Name\", \"BGGId\"]]\n",
    "games_df = games_df.drop(columns=[\"Name\"], errors='ignore')\n",
    "\n",
    "# get and format user ratings data\n",
    "ratings_df = pd.read_csv(\"../../bgg_data/user_ratings.csv\")\n",
    "ratings_df = ratings_df[ratings_df[\"BGGId\"].isin(set(games_df[\"BGGId\"]))]\n",
    "# train with just the first 50k users (bc 411k is taking wayyyyy too long)\n",
    "unique_users = ratings_df['Username'].unique()[:15000]\n",
    "ratings_df = ratings_df[ratings_df[\"Username\"].isin(unique_users)]\n",
    "user_id_map = {uid: idx for idx, uid in enumerate(unique_users)}\n",
    "\n",
    "train_ratings_df, test_ratings_df = train_test_split(ratings_df, test_size=0.2, random_state=42)"
   ]
  },
  {
   "cell_type": "markdown",
   "id": "13523a96",
   "metadata": {},
   "source": [
    "# Make Datasets and Dataloaders"
   ]
  },
  {
   "cell_type": "code",
   "execution_count": 17,
   "id": "6e42bb13",
   "metadata": {},
   "outputs": [],
   "source": [
    "class RatingsDataset(Dataset):\n",
    "    def __init__(self, ratings_df, games_df, user_id_map, transform=None):\n",
    "        self.ratings_df = ratings_df.reset_index(drop=True)\n",
    "        self.games_df = games_df\n",
    "        self.user_id_map = user_id_map\n",
    "        self.transform = transform\n",
    "\n",
    "    def __len__(self):\n",
    "        return len(self.ratings_df)\n",
    "\n",
    "    def __getitem__(self, idx):\n",
    "        row = self.ratings_df.iloc[idx]\n",
    "        user_id = row['Username']\n",
    "        bggid = row['BGGId']\n",
    "        rating = row['Rating']\n",
    "        # Map the UserId to an index.\n",
    "        user_index = self.user_id_map[user_id]\n",
    "        # Look up game features for this BGGId.\n",
    "        game_features = self.games_df[self.games_df[\"BGGId\"] == bggid]\n",
    "        if self.transform:\n",
    "            game_features = self.transform(game_features)\n",
    "        # Convert to tensors.\n",
    "        game_features = torch.tensor(game_features.values.squeeze(), dtype=torch.float32)\n",
    "        user_index = torch.tensor(user_index, dtype=torch.long)\n",
    "        rating = torch.tensor(rating, dtype=torch.float32)\n",
    "        return game_features, user_index, rating"
   ]
  },
  {
   "cell_type": "code",
   "execution_count": 18,
   "id": "d7ce7794",
   "metadata": {},
   "outputs": [],
   "source": [
    "train_dataset = RatingsDataset(train_ratings_df, games_df, user_id_map)\n",
    "test_dataset = RatingsDataset(test_ratings_df, games_df, user_id_map)\n",
    "\n",
    "batch_size = 256\n",
    "train_loader = DataLoader(train_dataset, batch_size=batch_size, shuffle=True, num_workers=8)\n",
    "test_loader = DataLoader(test_dataset, batch_size=batch_size, shuffle=False, num_workers=8)"
   ]
  },
  {
   "cell_type": "markdown",
   "id": "4a6eabcc",
   "metadata": {},
   "source": [
    "# Make Game Encoder"
   ]
  },
  {
   "cell_type": "code",
   "execution_count": 19,
   "id": "a85569c6",
   "metadata": {},
   "outputs": [],
   "source": [
    "class GameEncoder(nn.Module):\n",
    "    def __init__(self, input_dim, latent_dim=64):\n",
    "        super(GameEncoder, self).__init__()\n",
    "        self.encoder = nn.Sequential(\n",
    "            nn.Linear(input_dim, 1024),\n",
    "            nn.BatchNorm1d(1024),\n",
    "            nn.ReLU(),\n",
    "            nn.Dropout(0.2),\n",
    "            nn.Linear(1024, 512),\n",
    "            nn.BatchNorm1d(512),\n",
    "            nn.ReLU(),\n",
    "            nn.Dropout(0.2),\n",
    "            nn.Linear(512, 256),\n",
    "            nn.BatchNorm1d(256),\n",
    "            nn.ReLU(),\n",
    "            nn.Linear(256, latent_dim)\n",
    "        )\n",
    "    def forward(self, x):\n",
    "        return self.encoder(x)"
   ]
  },
  {
   "cell_type": "markdown",
   "id": "fddc865b",
   "metadata": {},
   "source": [
    "# Make Overall Ratings Predictor"
   ]
  },
  {
   "cell_type": "code",
   "execution_count": 20,
   "id": "b7ebd90c",
   "metadata": {},
   "outputs": [],
   "source": [
    "class RatingPredictor(nn.Module):\n",
    "    def __init__(self, game_encoder, num_users, latent_dim=64, user_emb_dim=32, mlp_hidden_dim=128):\n",
    "        super(RatingPredictor, self).__init__()\n",
    "        self.game_encoder = game_encoder\n",
    "        self.user_embedding = nn.Embedding(num_users, user_emb_dim)\n",
    "        self.mlp = nn.Sequential(\n",
    "            nn.Linear(latent_dim + user_emb_dim, mlp_hidden_dim),\n",
    "            nn.ReLU(),\n",
    "            nn.Linear(mlp_hidden_dim, mlp_hidden_dim // 2),\n",
    "            nn.ReLU(),\n",
    "            nn.Linear(mlp_hidden_dim // 2, 1)\n",
    "        )\n",
    "    def forward(self, game_features, user_ids):\n",
    "        game_emb = self.game_encoder(game_features)\n",
    "        user_emb = self.user_embedding(user_ids)\n",
    "        x = torch.cat([game_emb, user_emb], dim=1)\n",
    "        rating = self.mlp(x)\n",
    "        return rating.squeeze(1)"
   ]
  },
  {
   "cell_type": "markdown",
   "id": "5dcdfd80",
   "metadata": {},
   "source": [
    "# Make Model, Hyperparameters"
   ]
  },
  {
   "cell_type": "code",
   "execution_count": 21,
   "id": "5156468d",
   "metadata": {},
   "outputs": [],
   "source": [
    "latent_dim = 64\n",
    "input_dim = len(train_dataset.games_df.columns)\n",
    "num_users = len(unique_users)\n",
    "game_encoder = GameEncoder(input_dim, latent_dim=latent_dim)\n",
    "model = RatingPredictor(game_encoder, num_users, latent_dim=latent_dim, user_emb_dim=32, mlp_hidden_dim=128)\n",
    "device = 'cuda' if torch.cuda.is_available() else 'mps' if torch.backends.mps.is_available() else 'cpu'\n",
    "model.to(device)\n",
    "criterion = nn.MSELoss()\n",
    "optimizer = optim.Adam(model.parameters(), lr=1e-3)\n",
    "num_epochs = 10"
   ]
  },
  {
   "cell_type": "markdown",
   "id": "a0ead2a3",
   "metadata": {},
   "source": [
    "# Define Training Procedure"
   ]
  },
  {
   "cell_type": "code",
   "execution_count": 22,
   "id": "e5913659",
   "metadata": {},
   "outputs": [],
   "source": [
    "def train_epoch(model, loader, optimizer, criterion, device):\n",
    "    model.train()\n",
    "    total_loss = 0.0\n",
    "    for game_features, user_ids, ratings in loader:\n",
    "        game_features = game_features.to(device)\n",
    "        user_ids = user_ids.to(device)\n",
    "        ratings = ratings.to(device)\n",
    "        optimizer.zero_grad()\n",
    "        outputs = model(game_features, user_ids)\n",
    "        loss = criterion(outputs, ratings)\n",
    "        loss.backward()\n",
    "        optimizer.step()\n",
    "        total_loss += loss.item() * game_features.size(0)\n",
    "    return total_loss / len(loader.dataset)\n",
    "\n",
    "def evaluate(model, loader, criterion, device):\n",
    "    model.eval()\n",
    "    total_loss = 0.0\n",
    "    with torch.no_grad():\n",
    "        for game_features, user_ids, ratings in loader:\n",
    "            game_features = game_features.to(device)\n",
    "            user_ids = user_ids.to(device)\n",
    "            ratings = ratings.to(device)\n",
    "            outputs = model(game_features, user_ids)\n",
    "            loss = criterion(outputs, ratings)\n",
    "            total_loss += loss.item() * game_features.size(0)\n",
    "    return total_loss / len(loader.dataset)\n",
    "\n",
    "def train_model(model, num_epochs, train_loader, test_loader, optimizer, criterion, device='cpu'):\n",
    "    train_losses = []\n",
    "    test_losses = []\n",
    "    for epoch in range(num_epochs):\n",
    "        train_loss = train_epoch(model, train_loader, optimizer, criterion, device)\n",
    "        test_loss = evaluate(model, test_loader, criterion, device)\n",
    "        print(f\"Epoch {epoch+1}/{num_epochs} - Train Loss: {train_loss:.4f}, Test Loss: {test_loss:.4f}\")\n",
    "        train_losses.append(train_loss)\n",
    "        test_losses.append(test_loss)\n",
    "    return train_losses, test_losses"
   ]
  },
  {
   "cell_type": "markdown",
   "id": "323d480b",
   "metadata": {},
   "source": [
    "# Train the Model"
   ]
  },
  {
   "cell_type": "code",
   "execution_count": null,
   "id": "24c7b9ee",
   "metadata": {},
   "outputs": [
    {
     "name": "stderr",
     "output_type": "stream",
     "text": [
      "Traceback (most recent call last):\n",
      "  File \"<string>\", line 1, in <module>\n",
      "  File \"/Users/claudia/opt/anaconda3/lib/python3.8/multiprocessing/spawn.py\", line 116, in spawn_main\n",
      "    exitcode = _main(fd, parent_sentinel)\n",
      "  File \"/Users/claudia/opt/anaconda3/lib/python3.8/multiprocessing/spawn.py\", line 126, in _main\n",
      "    self = reduction.pickle.load(from_parent)\n",
      "AttributeError: Can't get attribute 'RatingsDataset' on <module '__main__' (built-in)>\n"
     ]
    }
   ],
   "source": [
    "train_loss, test_loss = train_model(\n",
    "    model,\n",
    "    num_epochs,\n",
    "    train_loader, \n",
    "    test_loader, \n",
    "    optimizer,\n",
    "    criterion, \n",
    "    device=device)"
   ]
  },
  {
   "cell_type": "markdown",
   "id": "25321b9d",
   "metadata": {},
   "source": [
    "# Evaluate the Model"
   ]
  },
  {
   "cell_type": "code",
   "execution_count": null,
   "id": "b402fa38",
   "metadata": {},
   "outputs": [],
   "source": [
    "def plot_losses(train_losses, test_losses, title=\"Training and Test Loss Over Epochs\"):\n",
    "    epochs = range(1, len(train_losses) + 1)\n",
    "    plt.figure(figsize=(8, 5))\n",
    "    plt.plot(epochs, train_losses, label='Train Loss')\n",
    "    plt.plot(epochs, test_losses, label='Test Loss')\n",
    "    plt.xlabel('Epoch')\n",
    "    plt.ylabel('Loss')\n",
    "    plt.title(title)\n",
    "    plt.legend()\n",
    "    plt.grid(True)\n",
    "    plt.show()"
   ]
  },
  {
   "cell_type": "code",
   "execution_count": null,
   "id": "64be8128",
   "metadata": {},
   "outputs": [],
   "source": [
    "plot_losses(train_loss, test_loss)"
   ]
  },
  {
   "cell_type": "code",
   "execution_count": 16,
   "id": "cb8caa31",
   "metadata": {},
   "outputs": [
    {
     "data": {
      "text/plain": [
       "4424663"
      ]
     },
     "execution_count": 16,
     "metadata": {},
     "output_type": "execute_result"
    }
   ],
   "source": [
    "len(ratings_df)"
   ]
  },
  {
   "cell_type": "code",
   "execution_count": null,
   "id": "de1a2dcc",
   "metadata": {},
   "outputs": [],
   "source": []
  },
  {
   "cell_type": "raw",
   "id": "3efbd921",
   "metadata": {},
   "source": []
  }
 ],
 "metadata": {
  "kernelspec": {
   "display_name": "Python 3 (ipykernel)",
   "language": "python",
   "name": "python3"
  },
  "language_info": {
   "codemirror_mode": {
    "name": "ipython",
    "version": 3
   },
   "file_extension": ".py",
   "mimetype": "text/x-python",
   "name": "python",
   "nbconvert_exporter": "python",
   "pygments_lexer": "ipython3",
   "version": "3.8.8"
  }
 },
 "nbformat": 4,
 "nbformat_minor": 5
}
