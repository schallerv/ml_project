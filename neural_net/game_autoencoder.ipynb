{
 "cells": [
  {
   "cell_type": "markdown",
   "id": "6aaffdef",
   "metadata": {},
   "source": [
    "# Setup"
   ]
  },
  {
   "cell_type": "code",
   "execution_count": 1,
   "id": "70e96582",
   "metadata": {},
   "outputs": [],
   "source": [
    "import torch\n",
    "import torch.nn as nn\n",
    "import torch.optim as optim\n",
    "from torch.utils.data import Dataset, DataLoader\n",
    "import pandas as pd\n",
    "import numpy as np"
   ]
  },
  {
   "cell_type": "code",
   "execution_count": 8,
   "id": "3f8c667b",
   "metadata": {},
   "outputs": [],
   "source": [
    "device = 'cuda' if torch.cuda.is_available() else 'mps' if torch.backends.mps.is_available() else 'cpu'"
   ]
  },
  {
   "cell_type": "markdown",
   "id": "617819f8",
   "metadata": {},
   "source": [
    "# Make Game Dataset"
   ]
  },
  {
   "cell_type": "code",
   "execution_count": 2,
   "id": "a2e251a6",
   "metadata": {},
   "outputs": [],
   "source": [
    "class GamesDataset(Dataset):\n",
    "    def __init__(self, csv_file, transform=None):\n",
    "        self.data = pd.read_csv(csv_file)\n",
    "        # Select only numerical columns (you might need to adjust based on your CSV)\n",
    "        self.features = self.data.select_dtypes(include=[np.number]).values.astype(np.float32)\n",
    "        self.transform = transform\n",
    "        \n",
    "        # Normalize features: standardize to mean=0 and std=1\n",
    "        self.mean = self.features.mean(axis=0)\n",
    "        self.std = self.features.std(axis=0) + 1e-8  # add a small value to avoid division by zero\n",
    "        self.features = (self.features - self.mean) / self.std\n",
    "\n",
    "    def __len__(self):\n",
    "        return len(self.features)\n",
    "\n",
    "    def __getitem__(self, idx):\n",
    "        sample = self.features[idx]\n",
    "        if self.transform:\n",
    "            sample = self.transform(sample)\n",
    "        return sample"
   ]
  },
  {
   "cell_type": "code",
   "execution_count": 6,
   "id": "fe5c3c82",
   "metadata": {},
   "outputs": [],
   "source": [
    "csv_file = \"../bgg_data/overall_games_mini.csv\"\n",
    "batch_size = 32\n",
    "dataset = GamesDataset(csv_file)\n",
    "dataloader = DataLoader(dataset, batch_size=batch_size, shuffle=True)"
   ]
  },
  {
   "cell_type": "markdown",
   "id": "91c0e35b",
   "metadata": {},
   "source": [
    "# Make Autoencoder"
   ]
  },
  {
   "cell_type": "code",
   "execution_count": 7,
   "id": "2e95f0cf",
   "metadata": {},
   "outputs": [],
   "source": [
    "class Autoencoder(nn.Module):\n",
    "    def __init__(self, input_dim, latent_dim=32):\n",
    "        super(Autoencoder, self).__init__()\n",
    "        # encoder compresses input to latent_dim in bottleneck layer\n",
    "        self.encoder = nn.Sequential(\n",
    "            nn.Linear(input_dim, 128),\n",
    "            nn.ReLU(),\n",
    "            nn.Linear(128, latent_dim)\n",
    "        )\n",
    "        # decoder reconstructs the input from embeddings in the bottleneck layer\n",
    "        self.decoder = nn.Sequential(\n",
    "            nn.Linear(latent_dim, 128),\n",
    "            nn.ReLU(),\n",
    "            nn.Linear(128, input_dim)\n",
    "        )\n",
    "        \n",
    "    def forward(self, x):\n",
    "        latent = self.encoder(x)\n",
    "        reconstructed = self.decoder(latent)\n",
    "        return reconstructed, latent"
   ]
  },
  {
   "cell_type": "markdown",
   "id": "8e743a51",
   "metadata": {},
   "source": [
    "# Define Training Procedure, Loss Function, and Hyperparamters"
   ]
  },
  {
   "cell_type": "code",
   "execution_count": 9,
   "id": "b1b239f3",
   "metadata": {},
   "outputs": [],
   "source": [
    "def train_autoencoder(model, dataloader, criterion, optimizer, num_epochs=20, device='cpu'):\n",
    "    model.to(device)\n",
    "    for epoch in range(num_epochs):\n",
    "        model.train()\n",
    "        total_loss = 0.0\n",
    "        for batch in dataloader:\n",
    "            batch = batch.to(device)\n",
    "            optimizer.zero_grad()\n",
    "            reconstructed, latent = model(batch)\n",
    "            loss = criterion(reconstructed, batch)\n",
    "            loss.backward()\n",
    "            optimizer.step()\n",
    "            total_loss += loss.item() * batch.size(0)\n",
    "        avg_loss = total_loss / len(dataloader.dataset)\n",
    "        print(f\"Epoch {epoch+1}/{num_epochs}, Loss: {avg_loss:.4f}\")\n",
    "    return model"
   ]
  },
  {
   "cell_type": "code",
   "execution_count": null,
   "id": "26969bf8",
   "metadata": {},
   "outputs": [],
   "source": [
    "\n",
    "def composite_loss(reconstructed, target, continuous_idx, binary_idx, bce_weight=1.0):\n",
    "    # MSE for continuous features\n",
    "    mse_loss = F.mse_loss(reconstructed[:, continuous_idx], target[:, continuous_idx])\n",
    "    \n",
    "    # BCE for binary flags\n",
    "    # Use BCEWithLogitsLoss if your model's decoder outputs raw scores (logits)\n",
    "    bce_loss = F.binary_cross_entropy_with_logits(reconstructed[:, binary_idx], target[:, binary_idx])\n",
    "    \n",
    "    # Weighted sum of losses\n",
    "    total_loss = mse_loss + bce_weight * bce_loss\n",
    "    return total_loss"
   ]
  },
  {
   "cell_type": "code",
   "execution_count": null,
   "id": "76c3daf3",
   "metadata": {},
   "outputs": [],
   "source": [
    "epochs = 20\n",
    "learning_rate = .001\n",
    "input_dim = dataset.features.shape[1]\n",
    "optimizer = optim.Adam(model.parameters(), lr=learning_rate)\n",
    "latent_dim = 64\n"
   ]
  }
 ],
 "metadata": {
  "kernelspec": {
   "display_name": "Python 3 (ipykernel)",
   "language": "python",
   "name": "python3"
  },
  "language_info": {
   "codemirror_mode": {
    "name": "ipython",
    "version": 3
   },
   "file_extension": ".py",
   "mimetype": "text/x-python",
   "name": "python",
   "nbconvert_exporter": "python",
   "pygments_lexer": "ipython3",
   "version": "3.8.8"
  }
 },
 "nbformat": 4,
 "nbformat_minor": 5
}
